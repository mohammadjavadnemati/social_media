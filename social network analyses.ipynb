{
  "nbformat": 4,
  "nbformat_minor": 0,
  "metadata": {
    "colab": {
      "provenance": []
    },
    "kernelspec": {
      "name": "python3",
      "display_name": "Python 3"
    },
    "language_info": {
      "name": "python"
    }
  },
  "cells": [
    {
      "cell_type": "code",
      "execution_count": 1,
      "metadata": {
        "colab": {
          "base_uri": "https://localhost:8080/",
          "height": 127
        },
        "id": "G5qyrAB2z8Fl",
        "outputId": "f6ac533a-a4fe-4895-d640-09ce58274503"
      },
      "outputs": [
        {
          "output_type": "display_data",
          "data": {
            "text/plain": [
              "<IPython.core.display.HTML object>"
            ],
            "text/html": [
              "\n",
              "     <input type=\"file\" id=\"files-fc391cff-101c-46da-9505-5e06756ff7be\" name=\"files[]\" multiple disabled\n",
              "        style=\"border:none\" />\n",
              "     <output id=\"result-fc391cff-101c-46da-9505-5e06756ff7be\">\n",
              "      Upload widget is only available when the cell has been executed in the\n",
              "      current browser session. Please rerun this cell to enable.\n",
              "      </output>\n",
              "      <script>// Copyright 2017 Google LLC\n",
              "//\n",
              "// Licensed under the Apache License, Version 2.0 (the \"License\");\n",
              "// you may not use this file except in compliance with the License.\n",
              "// You may obtain a copy of the License at\n",
              "//\n",
              "//      http://www.apache.org/licenses/LICENSE-2.0\n",
              "//\n",
              "// Unless required by applicable law or agreed to in writing, software\n",
              "// distributed under the License is distributed on an \"AS IS\" BASIS,\n",
              "// WITHOUT WARRANTIES OR CONDITIONS OF ANY KIND, either express or implied.\n",
              "// See the License for the specific language governing permissions and\n",
              "// limitations under the License.\n",
              "\n",
              "/**\n",
              " * @fileoverview Helpers for google.colab Python module.\n",
              " */\n",
              "(function(scope) {\n",
              "function span(text, styleAttributes = {}) {\n",
              "  const element = document.createElement('span');\n",
              "  element.textContent = text;\n",
              "  for (const key of Object.keys(styleAttributes)) {\n",
              "    element.style[key] = styleAttributes[key];\n",
              "  }\n",
              "  return element;\n",
              "}\n",
              "\n",
              "// Max number of bytes which will be uploaded at a time.\n",
              "const MAX_PAYLOAD_SIZE = 100 * 1024;\n",
              "\n",
              "function _uploadFiles(inputId, outputId) {\n",
              "  const steps = uploadFilesStep(inputId, outputId);\n",
              "  const outputElement = document.getElementById(outputId);\n",
              "  // Cache steps on the outputElement to make it available for the next call\n",
              "  // to uploadFilesContinue from Python.\n",
              "  outputElement.steps = steps;\n",
              "\n",
              "  return _uploadFilesContinue(outputId);\n",
              "}\n",
              "\n",
              "// This is roughly an async generator (not supported in the browser yet),\n",
              "// where there are multiple asynchronous steps and the Python side is going\n",
              "// to poll for completion of each step.\n",
              "// This uses a Promise to block the python side on completion of each step,\n",
              "// then passes the result of the previous step as the input to the next step.\n",
              "function _uploadFilesContinue(outputId) {\n",
              "  const outputElement = document.getElementById(outputId);\n",
              "  const steps = outputElement.steps;\n",
              "\n",
              "  const next = steps.next(outputElement.lastPromiseValue);\n",
              "  return Promise.resolve(next.value.promise).then((value) => {\n",
              "    // Cache the last promise value to make it available to the next\n",
              "    // step of the generator.\n",
              "    outputElement.lastPromiseValue = value;\n",
              "    return next.value.response;\n",
              "  });\n",
              "}\n",
              "\n",
              "/**\n",
              " * Generator function which is called between each async step of the upload\n",
              " * process.\n",
              " * @param {string} inputId Element ID of the input file picker element.\n",
              " * @param {string} outputId Element ID of the output display.\n",
              " * @return {!Iterable<!Object>} Iterable of next steps.\n",
              " */\n",
              "function* uploadFilesStep(inputId, outputId) {\n",
              "  const inputElement = document.getElementById(inputId);\n",
              "  inputElement.disabled = false;\n",
              "\n",
              "  const outputElement = document.getElementById(outputId);\n",
              "  outputElement.innerHTML = '';\n",
              "\n",
              "  const pickedPromise = new Promise((resolve) => {\n",
              "    inputElement.addEventListener('change', (e) => {\n",
              "      resolve(e.target.files);\n",
              "    });\n",
              "  });\n",
              "\n",
              "  const cancel = document.createElement('button');\n",
              "  inputElement.parentElement.appendChild(cancel);\n",
              "  cancel.textContent = 'Cancel upload';\n",
              "  const cancelPromise = new Promise((resolve) => {\n",
              "    cancel.onclick = () => {\n",
              "      resolve(null);\n",
              "    };\n",
              "  });\n",
              "\n",
              "  // Wait for the user to pick the files.\n",
              "  const files = yield {\n",
              "    promise: Promise.race([pickedPromise, cancelPromise]),\n",
              "    response: {\n",
              "      action: 'starting',\n",
              "    }\n",
              "  };\n",
              "\n",
              "  cancel.remove();\n",
              "\n",
              "  // Disable the input element since further picks are not allowed.\n",
              "  inputElement.disabled = true;\n",
              "\n",
              "  if (!files) {\n",
              "    return {\n",
              "      response: {\n",
              "        action: 'complete',\n",
              "      }\n",
              "    };\n",
              "  }\n",
              "\n",
              "  for (const file of files) {\n",
              "    const li = document.createElement('li');\n",
              "    li.append(span(file.name, {fontWeight: 'bold'}));\n",
              "    li.append(span(\n",
              "        `(${file.type || 'n/a'}) - ${file.size} bytes, ` +\n",
              "        `last modified: ${\n",
              "            file.lastModifiedDate ? file.lastModifiedDate.toLocaleDateString() :\n",
              "                                    'n/a'} - `));\n",
              "    const percent = span('0% done');\n",
              "    li.appendChild(percent);\n",
              "\n",
              "    outputElement.appendChild(li);\n",
              "\n",
              "    const fileDataPromise = new Promise((resolve) => {\n",
              "      const reader = new FileReader();\n",
              "      reader.onload = (e) => {\n",
              "        resolve(e.target.result);\n",
              "      };\n",
              "      reader.readAsArrayBuffer(file);\n",
              "    });\n",
              "    // Wait for the data to be ready.\n",
              "    let fileData = yield {\n",
              "      promise: fileDataPromise,\n",
              "      response: {\n",
              "        action: 'continue',\n",
              "      }\n",
              "    };\n",
              "\n",
              "    // Use a chunked sending to avoid message size limits. See b/62115660.\n",
              "    let position = 0;\n",
              "    do {\n",
              "      const length = Math.min(fileData.byteLength - position, MAX_PAYLOAD_SIZE);\n",
              "      const chunk = new Uint8Array(fileData, position, length);\n",
              "      position += length;\n",
              "\n",
              "      const base64 = btoa(String.fromCharCode.apply(null, chunk));\n",
              "      yield {\n",
              "        response: {\n",
              "          action: 'append',\n",
              "          file: file.name,\n",
              "          data: base64,\n",
              "        },\n",
              "      };\n",
              "\n",
              "      let percentDone = fileData.byteLength === 0 ?\n",
              "          100 :\n",
              "          Math.round((position / fileData.byteLength) * 100);\n",
              "      percent.textContent = `${percentDone}% done`;\n",
              "\n",
              "    } while (position < fileData.byteLength);\n",
              "  }\n",
              "\n",
              "  // All done.\n",
              "  yield {\n",
              "    response: {\n",
              "      action: 'complete',\n",
              "    }\n",
              "  };\n",
              "}\n",
              "\n",
              "scope.google = scope.google || {};\n",
              "scope.google.colab = scope.google.colab || {};\n",
              "scope.google.colab._files = {\n",
              "  _uploadFiles,\n",
              "  _uploadFilesContinue,\n",
              "};\n",
              "})(self);\n",
              "</script> "
            ]
          },
          "metadata": {}
        },
        {
          "output_type": "stream",
          "name": "stdout",
          "text": [
            "Saving dolphins (1).edges to dolphins (1).edges\n"
          ]
        },
        {
          "output_type": "execute_result",
          "data": {
            "text/plain": [
              "{'dolphins (1).edges': b'0\\t10\\n0\\t14\\n0\\t15\\n0\\t40\\n0\\t42\\n0\\t47\\n1\\t17\\n1\\t19\\n1\\t26\\n1\\t27\\n1\\t28\\n1\\t36\\n1\\t41\\n1\\t54\\n2\\t10\\n2\\t42\\n2\\t44\\n2\\t61\\n3\\t8\\n3\\t14\\n3\\t59\\n4\\t51\\n5\\t9\\n5\\t13\\n5\\t56\\n5\\t57\\n6\\t9\\n6\\t13\\n6\\t17\\n6\\t54\\n6\\t56\\n6\\t57\\n7\\t19\\n7\\t27\\n7\\t30\\n7\\t40\\n7\\t54\\n8\\t20\\n8\\t28\\n8\\t37\\n8\\t45\\n8\\t59\\n9\\t13\\n9\\t17\\n9\\t32\\n9\\t41\\n9\\t57\\n10\\t29\\n10\\t42\\n10\\t47\\n11\\t51\\n12\\t33\\n13\\t17\\n13\\t32\\n13\\t41\\n13\\t54\\n13\\t57\\n14\\t16\\n14\\t24\\n14\\t33\\n14\\t34\\n14\\t37\\n14\\t38\\n14\\t40\\n14\\t43\\n14\\t50\\n14\\t52\\n15\\t18\\n15\\t24\\n15\\t40\\n15\\t45\\n15\\t55\\n15\\t59\\n16\\t20\\n16\\t33\\n16\\t37\\n16\\t38\\n16\\t50\\n17\\t22\\n17\\t25\\n17\\t27\\n17\\t31\\n17\\t57\\n18\\t20\\n18\\t21\\n18\\t24\\n18\\t29\\n18\\t45\\n18\\t51\\n19\\t30\\n19\\t54\\n20\\t28\\n20\\t36\\n20\\t38\\n20\\t44\\n20\\t47\\n20\\t50\\n21\\t29\\n21\\t33\\n21\\t37\\n21\\t45\\n21\\t51\\n23\\t36\\n23\\t45\\n23\\t51\\n24\\t29\\n24\\t45\\n24\\t51\\n25\\t26\\n25\\t27\\n26\\t27\\n28\\t30\\n28\\t47\\n29\\t35\\n29\\t43\\n29\\t45\\n29\\t51\\n29\\t52\\n30\\t42\\n30\\t47\\n32\\t60\\n33\\t34\\n33\\t37\\n33\\t38\\n33\\t40\\n33\\t43\\n33\\t50\\n34\\t37\\n34\\t44\\n34\\t49\\n36\\t37\\n36\\t39\\n36\\t40\\n36\\t59\\n37\\t40\\n37\\t43\\n37\\t45\\n37\\t61\\n38\\t43\\n38\\t44\\n38\\t52\\n38\\t58\\n39\\t57\\n40\\t52\\n41\\t54\\n41\\t57\\n42\\t47\\n42\\t50\\n43\\t46\\n43\\t53\\n45\\t50\\n45\\t51\\n45\\t59\\n46\\t49\\n48\\t57\\n50\\t51\\n51\\t55\\n53\\t61\\n54\\t57\\n'}"
            ]
          },
          "metadata": {},
          "execution_count": 1
        }
      ],
      "source": [
        "import networkx as nx\n",
        "import pandas as pd\n",
        "from google.colab import files\n",
        "files.upload()\n"
      ]
    },
    {
      "cell_type": "code",
      "source": [
        "df=pd.read_csv('/content/dolphins (1).edges',sep='\\t',names=['n1','n2'])\n",
        "G=nx.from_pandas_edgelist(df,'n1','n2',create_using=nx.Graph())\n",
        "nx.draw_networkx(G)\n"
      ],
      "metadata": {
        "colab": {
          "base_uri": "https://localhost:8080/",
          "height": 406
        },
        "id": "p5Er2y8o0XRk",
        "outputId": "c9bdc295-2462-4294-d2d5-0b81327c42f6"
      },
      "execution_count": 3,
      "outputs": [
        {
          "output_type": "display_data",
          "data": {
            "text/plain": [
              "<Figure size 640x480 with 1 Axes>"
            ],
            "image/png": "[encoded data removed]"
          },
          "metadata": {}
        }
      ]
    },
    {
      "cell_type": "code",
      "source": [
        "degree=nx.degree_centrality(G)\n",
        "top_10_degree=sorted(degree.items(),key= lambda x:x[1],reverse=True)[0:10]\n"
      ],
      "metadata": {
        "id": "lqkCIsjU0gTY"
      },
      "execution_count": 4,
      "outputs": []
    },
    {
      "cell_type": "code",
      "source": [
        "between=nx.betweenness_centrality(G)\n",
        "top_10_between=sorted(between.items(),key= lambda x:x[1],reverse=True)[0:10]"
      ],
      "metadata": {
        "id": "mR9IpeRU0gVd"
      },
      "execution_count": 5,
      "outputs": []
    },
    {
      "cell_type": "code",
      "source": [
        "close=nx.closeness_centrality(G)\n",
        "top_10_close=sorted(close.items(),key= lambda x:x[1],reverse=True)[0:10]"
      ],
      "metadata": {
        "id": "j8rjsi5U0gYB"
      },
      "execution_count": 6,
      "outputs": []
    },
    {
      "cell_type": "code",
      "source": [
        "page=nx.pagerank(G)\n",
        "top_10_page=sorted(close.items(),key= lambda x:x[1],reverse=True)[0:10]"
      ],
      "metadata": {
        "id": "ZcH6o_WG0gaI"
      },
      "execution_count": 7,
      "outputs": []
    },
    {
      "cell_type": "code",
      "source": [
        "eigen=nx.eigenvector_centrality(G)\n",
        "top_10_eigen=sorted(eigen.items(),key= lambda x:x[1],reverse=True)[0:10]"
      ],
      "metadata": {
        "id": "ty8IwwkG0gcG"
      },
      "execution_count": 8,
      "outputs": []
    },
    {
      "cell_type": "code",
      "source": [
        "top_5_nodes_degree = [node for node, _ in top_10_degree][:5]\n",
        "top_10_nodes_degree = [node for node, _ in top_10_degree][:10]\n",
        "\n"
      ],
      "metadata": {
        "id": "_gu5MHfx0gfH"
      },
      "execution_count": 9,
      "outputs": []
    },
    {
      "cell_type": "code",
      "source": [
        "top_5_nodes_close = [node for node, _ in top_10_close][:5]\n",
        "top_10_nodes_close = [node for node, _ in top_10_close][:10]"
      ],
      "metadata": {
        "id": "VzF-3_Eu03cC"
      },
      "execution_count": 10,
      "outputs": []
    },
    {
      "cell_type": "code",
      "source": [
        "top_5_nodes_between = [node for node, _ in top_10_between][:5]\n",
        "top_10_nodes_between = [node for node, _ in top_10_between][:10]"
      ],
      "metadata": {
        "id": "TMHqIgYq03dx"
      },
      "execution_count": 11,
      "outputs": []
    },
    {
      "cell_type": "code",
      "source": [
        "top_5_nodes_page = [node for node, _ in top_10_page][:5]\n",
        "top_10_nodes_page = [node for node, _ in top_10_page][:10]"
      ],
      "metadata": {
        "id": "iJMS5ALS03gd"
      },
      "execution_count": 12,
      "outputs": []
    },
    {
      "cell_type": "code",
      "source": [
        "top_5_nodes_eigen = [node for node, _ in top_10_eigen][:5]\n",
        "top_10_nodes_eigen = [node for node, _ in top_10_eigen][:10]"
      ],
      "metadata": {
        "id": "gsMgnzbN03iY"
      },
      "execution_count": 13,
      "outputs": []
    },
    {
      "cell_type": "code",
      "source": [
        "# my model is have threshold 0.1\n",
        "import random\n",
        "def run_IC_model(G, seeds, iterations=50):\n",
        "    total_spread = 0\n",
        "    for i in range(iterations):\n",
        "        active = set(seeds)\n",
        "        new_active = set(seeds)\n",
        "\n",
        "        while new_active:\n",
        "            activated_nodes_of_this_round = set()\n",
        "            for node in new_active:\n",
        "                neighbors = set(G.neighbors(node)) - active\n",
        "                for neighbor in neighbors:\n",
        "                    if random.random() < 0.1:\n",
        "                        activated_nodes_of_this_round.add(neighbor)\n",
        "                        active.add(neighbor)\n",
        "\n",
        "            new_active = activated_nodes_of_this_round\n",
        "        total_spread += len(active)\n",
        "    return total_spread / iterations"
      ],
      "metadata": {
        "id": "YLlRSpPt03kU"
      },
      "execution_count": 14,
      "outputs": []
    },
    {
      "cell_type": "code",
      "source": [
        "degree5 = run_IC_model(G, top_5_nodes_degree)\n",
        "degree10 = run_IC_model(G, top_10_nodes_degree)\n",
        "\n",
        "print(f'degree5: {degree5}')\n",
        "print(f'degree10: {degree10}')"
      ],
      "metadata": {
        "colab": {
          "base_uri": "https://localhost:8080/"
        },
        "id": "HXqMHXqd03l1",
        "outputId": "d75313b2-e6df-4c96-9d6a-272bac4c3343"
      },
      "execution_count": 15,
      "outputs": [
        {
          "output_type": "stream",
          "name": "stdout",
          "text": [
            "degree5: 10.56\n",
            "degree10: 18.82\n"
          ]
        }
      ]
    },
    {
      "cell_type": "code",
      "source": [
        "close5 = run_IC_model(G, top_5_nodes_close)\n",
        "close10 = run_IC_model(G, top_10_nodes_close)\n",
        "\n",
        "print(f'degree5: {close5}')\n",
        "print(f'degree5: {close10}')"
      ],
      "metadata": {
        "colab": {
          "base_uri": "https://localhost:8080/"
        },
        "id": "VNQhxWgi03pg",
        "outputId": "042e9b9e-9239-4724-e495-e33e26715248"
      },
      "execution_count": 16,
      "outputs": [
        {
          "output_type": "stream",
          "name": "stdout",
          "text": [
            "degree5: 10.06\n",
            "degree5: 16.86\n"
          ]
        }
      ]
    },
    {
      "cell_type": "code",
      "source": [
        "between5 = run_IC_model(G, top_5_nodes_between)\n",
        "between10 = run_IC_model(G, top_10_nodes_between)\n",
        "\n",
        "print(f'degree5: {between5}')\n",
        "print(f'degree5: {between10}')"
      ],
      "metadata": {
        "colab": {
          "base_uri": "https://localhost:8080/"
        },
        "id": "Fjl3AWEI1O0X",
        "outputId": "c399bbaa-2234-49d8-c555-b297160218cf"
      },
      "execution_count": 17,
      "outputs": [
        {
          "output_type": "stream",
          "name": "stdout",
          "text": [
            "degree5: 10.02\n",
            "degree5: 18.82\n"
          ]
        }
      ]
    },
    {
      "cell_type": "code",
      "source": [
        "eigen5 = run_IC_model(G, top_5_nodes_between)\n",
        "eigen10 = run_IC_model(G, top_10_nodes_between)\n",
        "\n",
        "print(f'degree5: {eigen5}')\n",
        "print(f'degree5: {eigen10}')"
      ],
      "metadata": {
        "colab": {
          "base_uri": "https://localhost:8080/"
        },
        "id": "OhqdYAFo1O2J",
        "outputId": "2340587f-dcb7-41b4-e3a9-ae550538aa79"
      },
      "execution_count": 18,
      "outputs": [
        {
          "output_type": "stream",
          "name": "stdout",
          "text": [
            "degree5: 10.24\n",
            "degree5: 17.86\n"
          ]
        }
      ]
    },
    {
      "cell_type": "code",
      "source": [
        "page5 = run_IC_model(G, top_5_nodes_page)\n",
        "page10 = run_IC_model(G, top_10_nodes_page)\n",
        "\n",
        "print(f'degree5: {page5}')\n",
        "print(f'degree5: {page10}')"
      ],
      "metadata": {
        "colab": {
          "base_uri": "https://localhost:8080/"
        },
        "id": "YMkUSqTh1O5D",
        "outputId": "1f5855a8-7916-45a5-cf5d-896c57ee3640"
      },
      "execution_count": 19,
      "outputs": [
        {
          "output_type": "stream",
          "name": "stdout",
          "text": [
            "degree5: 10.78\n",
            "degree5: 17.04\n"
          ]
        }
      ]
    },
    {
      "cell_type": "code",
      "source": [
        "import matplotlib.pyplot as plt\n",
        "categories = ['Page', 'Eigen', 'Degree', 'Between', 'Close']\n",
        "values = [page5, eigen5, degree5, between5, close5]\n",
        "plt.bar(categories, values, color='yellow')\n",
        "plt.show()"
      ],
      "metadata": {
        "colab": {
          "base_uri": "https://localhost:8080/",
          "height": 430
        },
        "id": "vwWBr-ft1O6j",
        "outputId": "27ce39f6-a416-4a47-8e9f-d0a77bf710fe"
      },
      "execution_count": 20,
      "outputs": [
        {
          "output_type": "display_data",
          "data": {
            "text/plain": [
              "<Figure size 640x480 with 1 Axes>"
            ],
            "image/png": "[encoded data removed]"
          },
          "metadata": {}
        }
      ]
    },
    {
      "cell_type": "code",
      "source": [
        "import matplotlib.pyplot as plt\n",
        "categories = ['Page', 'Eigen', 'Degree', 'Between', 'Close']\n",
        "values = [page10, eigen10, degree10, between10, close10]\n",
        "plt.bar(categories, values, color='green')\n",
        "plt.show()"
      ],
      "metadata": {
        "colab": {
          "base_uri": "https://localhost:8080/",
          "height": 430
        },
        "id": "dDa7hnHt1O9N",
        "outputId": "8cb9bfad-2b54-4721-8f71-90e1d339615c"
      },
      "execution_count": 21,
      "outputs": [
        {
          "output_type": "display_data",
          "data": {
            "text/plain": [
              "<Figure size 640x480 with 1 Axes>"
            ],
            "image/png": "[encoded data removed]"
          },
          "metadata": {}
        }
      ]
    },
    {
      "cell_type": "code",
      "source": [
        "import networkx as nx\n",
        "from networkx.algorithms.community import greedy_modularity_communities\n",
        "communities_generator = nx.algorithms.community.girvan_newman(G)\n",
        "top_level_communities = next(communities_generator)\n",
        "\n",
        "\n",
        "\n",
        "\n",
        "\n"
      ],
      "metadata": {
        "id": "NFsu6H2s1PAU"
      },
      "execution_count": 22,
      "outputs": []
    },
    {
      "cell_type": "code",
      "source": [
        "partition = {}\n",
        "for i, community in enumerate(top_level_communities):\n",
        "    for node in community:\n",
        "        partition[node] = i"
      ],
      "metadata": {
        "id": "FUKpJoPM1kJh"
      },
      "execution_count": 23,
      "outputs": []
    },
    {
      "cell_type": "code",
      "source": [
        "\n",
        "centrality_measures = {\n",
        "    'degree': {},\n",
        "    'betweenness': {},\n",
        "    'closeness': {},\n",
        "    'pagerank':{},\n",
        "    'eigenvector':{}\n",
        "    }\n",
        "\n",
        "\n",
        "for comm_id, nodes in partition.items():\n",
        "    subgraph = G.subgraph(nodes)\n",
        "    centrality_measures['degree'][comm_id] = nx.degree_centrality(subgraph)\n",
        "    centrality_measures['betweenness'][comm_id] = nx.betweenness_centrality(subgraph)\n",
        "    centrality_measures['closeness'][comm_id] = nx.closeness_centrality(subgraph)\n",
        "    centrality_measures['pagerank'][comm_id] = nx.pagerank(subgraph)\n",
        "    centrality_measures['eigenvector'][comm_id] = nx.eigenvector_centrality(subgraph)\n"
      ],
      "metadata": {
        "id": "HV8TUcol1kN_"
      },
      "execution_count": 24,
      "outputs": []
    },
    {
      "cell_type": "code",
      "source": [
        "for comm_id, centrality_dict in centrality_measures['degree'].items():\n",
        "    sorted_centrality = sorted(centrality_dict.items(), key=lambda item: item[1], reverse=True)\n",
        "    print(f'community{comm_id} - node{sorted_centrality[:5]}')\n"
      ],
      "metadata": {
        "colab": {
          "base_uri": "https://localhost:8080/"
        },
        "id": "AI9rmI5Y1kSn",
        "outputId": "baf26dec-7779-4352-fe10-9b5e62950c9a"
      },
      "execution_count": 25,
      "outputs": [
        {
          "output_type": "stream",
          "name": "stdout",
          "text": [
            "community0 - node[(0, 1)]\n",
            "community2 - node[(0, 1)]\n",
            "community3 - node[(0, 1)]\n",
            "community4 - node[(0, 1)]\n",
            "community8 - node[(0, 1)]\n",
            "community10 - node[(0, 1)]\n",
            "community11 - node[(0, 1)]\n",
            "community12 - node[(0, 1)]\n",
            "community14 - node[(0, 1)]\n",
            "community15 - node[(0, 1)]\n",
            "community16 - node[(0, 1)]\n",
            "community18 - node[(0, 1)]\n",
            "community20 - node[(0, 1)]\n",
            "community21 - node[(0, 1)]\n",
            "community23 - node[(0, 1)]\n",
            "community24 - node[(0, 1)]\n",
            "community28 - node[(0, 1)]\n",
            "community29 - node[(0, 1)]\n",
            "community30 - node[(0, 1)]\n",
            "community33 - node[(0, 1)]\n",
            "community34 - node[(0, 1)]\n",
            "community35 - node[(0, 1)]\n",
            "community36 - node[(0, 1)]\n",
            "community37 - node[(0, 1)]\n",
            "community38 - node[(0, 1)]\n",
            "community40 - node[(0, 1)]\n",
            "community42 - node[(0, 1)]\n",
            "community43 - node[(0, 1)]\n",
            "community44 - node[(0, 1)]\n",
            "community45 - node[(0, 1)]\n",
            "community46 - node[(0, 1)]\n",
            "community47 - node[(0, 1)]\n",
            "community49 - node[(0, 1)]\n",
            "community50 - node[(0, 1)]\n",
            "community51 - node[(0, 1)]\n",
            "community52 - node[(0, 1)]\n",
            "community53 - node[(0, 1)]\n",
            "community55 - node[(0, 1)]\n",
            "community58 - node[(0, 1)]\n",
            "community59 - node[(0, 1)]\n",
            "community61 - node[(0, 1)]\n",
            "community1 - node[(1, 1)]\n",
            "community5 - node[(1, 1)]\n",
            "community6 - node[(1, 1)]\n",
            "community7 - node[(1, 1)]\n",
            "community9 - node[(1, 1)]\n",
            "community13 - node[(1, 1)]\n",
            "community17 - node[(1, 1)]\n",
            "community19 - node[(1, 1)]\n",
            "community22 - node[(1, 1)]\n",
            "community25 - node[(1, 1)]\n",
            "community26 - node[(1, 1)]\n",
            "community27 - node[(1, 1)]\n",
            "community31 - node[(1, 1)]\n",
            "community32 - node[(1, 1)]\n",
            "community39 - node[(1, 1)]\n",
            "community41 - node[(1, 1)]\n",
            "community48 - node[(1, 1)]\n",
            "community54 - node[(1, 1)]\n",
            "community56 - node[(1, 1)]\n",
            "community57 - node[(1, 1)]\n",
            "community60 - node[(1, 1)]\n"
          ]
        }
      ]
    },
    {
      "cell_type": "code",
      "source": [
        "for comm_id, centrality_dict in centrality_measures['degree'].items():\n",
        "    sorted_centrality = sorted(centrality_dict.items(), key=lambda item: item[1], reverse=True)\n",
        "    print(f'community{comm_id} - node{sorted_centrality[:10]}')\n"
      ],
      "metadata": {
        "colab": {
          "base_uri": "https://localhost:8080/"
        },
        "id": "XS6EG_GA1kfm",
        "outputId": "a8a40bcb-3da1-4ef9-b0f4-a5f52efcda9c"
      },
      "execution_count": 26,
      "outputs": [
        {
          "output_type": "stream",
          "name": "stdout",
          "text": [
            "community0 - node[(0, 1)]\n",
            "community2 - node[(0, 1)]\n",
            "community3 - node[(0, 1)]\n",
            "community4 - node[(0, 1)]\n",
            "community8 - node[(0, 1)]\n",
            "community10 - node[(0, 1)]\n",
            "community11 - node[(0, 1)]\n",
            "community12 - node[(0, 1)]\n",
            "community14 - node[(0, 1)]\n",
            "community15 - node[(0, 1)]\n",
            "community16 - node[(0, 1)]\n",
            "community18 - node[(0, 1)]\n",
            "community20 - node[(0, 1)]\n",
            "community21 - node[(0, 1)]\n",
            "community23 - node[(0, 1)]\n",
            "community24 - node[(0, 1)]\n",
            "community28 - node[(0, 1)]\n",
            "community29 - node[(0, 1)]\n",
            "community30 - node[(0, 1)]\n",
            "community33 - node[(0, 1)]\n",
            "community34 - node[(0, 1)]\n",
            "community35 - node[(0, 1)]\n",
            "community36 - node[(0, 1)]\n",
            "community37 - node[(0, 1)]\n",
            "community38 - node[(0, 1)]\n",
            "community40 - node[(0, 1)]\n",
            "community42 - node[(0, 1)]\n",
            "community43 - node[(0, 1)]\n",
            "community44 - node[(0, 1)]\n",
            "community45 - node[(0, 1)]\n",
            "community46 - node[(0, 1)]\n",
            "community47 - node[(0, 1)]\n",
            "community49 - node[(0, 1)]\n",
            "community50 - node[(0, 1)]\n",
            "community51 - node[(0, 1)]\n",
            "community52 - node[(0, 1)]\n",
            "community53 - node[(0, 1)]\n",
            "community55 - node[(0, 1)]\n",
            "community58 - node[(0, 1)]\n",
            "community59 - node[(0, 1)]\n",
            "community61 - node[(0, 1)]\n",
            "community1 - node[(1, 1)]\n",
            "community5 - node[(1, 1)]\n",
            "community6 - node[(1, 1)]\n",
            "community7 - node[(1, 1)]\n",
            "community9 - node[(1, 1)]\n",
            "community13 - node[(1, 1)]\n",
            "community17 - node[(1, 1)]\n",
            "community19 - node[(1, 1)]\n",
            "community22 - node[(1, 1)]\n",
            "community25 - node[(1, 1)]\n",
            "community26 - node[(1, 1)]\n",
            "community27 - node[(1, 1)]\n",
            "community31 - node[(1, 1)]\n",
            "community32 - node[(1, 1)]\n",
            "community39 - node[(1, 1)]\n",
            "community41 - node[(1, 1)]\n",
            "community48 - node[(1, 1)]\n",
            "community54 - node[(1, 1)]\n",
            "community56 - node[(1, 1)]\n",
            "community57 - node[(1, 1)]\n",
            "community60 - node[(1, 1)]\n"
          ]
        }
      ]
    },
    {
      "cell_type": "code",
      "source": [
        "for comm_id, centrality_dict in centrality_measures['betweenness'].items():\n",
        "    sorted_centrality = sorted(centrality_dict.items(), key=lambda item: item[1], reverse=True)\n",
        "    print(f'community{comm_id} - node{sorted_centrality[:5]}')"
      ],
      "metadata": {
        "colab": {
          "base_uri": "https://localhost:8080/"
        },
        "id": "Q64Cn0UR1ww5",
        "outputId": "f19cf764-630b-4506-a7c2-d5ed9f90f31b"
      },
      "execution_count": 27,
      "outputs": [
        {
          "output_type": "stream",
          "name": "stdout",
          "text": [
            "community0 - node[(0, 0.0)]\n",
            "community2 - node[(0, 0.0)]\n",
            "community3 - node[(0, 0.0)]\n",
            "community4 - node[(0, 0.0)]\n",
            "community8 - node[(0, 0.0)]\n",
            "community10 - node[(0, 0.0)]\n",
            "community11 - node[(0, 0.0)]\n",
            "community12 - node[(0, 0.0)]\n",
            "community14 - node[(0, 0.0)]\n",
            "community15 - node[(0, 0.0)]\n",
            "community16 - node[(0, 0.0)]\n",
            "community18 - node[(0, 0.0)]\n",
            "community20 - node[(0, 0.0)]\n",
            "community21 - node[(0, 0.0)]\n",
            "community23 - node[(0, 0.0)]\n",
            "community24 - node[(0, 0.0)]\n",
            "community28 - node[(0, 0.0)]\n",
            "community29 - node[(0, 0.0)]\n",
            "community30 - node[(0, 0.0)]\n",
            "community33 - node[(0, 0.0)]\n",
            "community34 - node[(0, 0.0)]\n",
            "community35 - node[(0, 0.0)]\n",
            "community36 - node[(0, 0.0)]\n",
            "community37 - node[(0, 0.0)]\n",
            "community38 - node[(0, 0.0)]\n",
            "community40 - node[(0, 0.0)]\n",
            "community42 - node[(0, 0.0)]\n",
            "community43 - node[(0, 0.0)]\n",
            "community44 - node[(0, 0.0)]\n",
            "community45 - node[(0, 0.0)]\n",
            "community46 - node[(0, 0.0)]\n",
            "community47 - node[(0, 0.0)]\n",
            "community49 - node[(0, 0.0)]\n",
            "community50 - node[(0, 0.0)]\n",
            "community51 - node[(0, 0.0)]\n",
            "community52 - node[(0, 0.0)]\n",
            "community53 - node[(0, 0.0)]\n",
            "community55 - node[(0, 0.0)]\n",
            "community58 - node[(0, 0.0)]\n",
            "community59 - node[(0, 0.0)]\n",
            "community61 - node[(0, 0.0)]\n",
            "community1 - node[(1, 0.0)]\n",
            "community5 - node[(1, 0.0)]\n",
            "community6 - node[(1, 0.0)]\n",
            "community7 - node[(1, 0.0)]\n",
            "community9 - node[(1, 0.0)]\n",
            "community13 - node[(1, 0.0)]\n",
            "community17 - node[(1, 0.0)]\n",
            "community19 - node[(1, 0.0)]\n",
            "community22 - node[(1, 0.0)]\n",
            "community25 - node[(1, 0.0)]\n",
            "community26 - node[(1, 0.0)]\n",
            "community27 - node[(1, 0.0)]\n",
            "community31 - node[(1, 0.0)]\n",
            "community32 - node[(1, 0.0)]\n",
            "community39 - node[(1, 0.0)]\n",
            "community41 - node[(1, 0.0)]\n",
            "community48 - node[(1, 0.0)]\n",
            "community54 - node[(1, 0.0)]\n",
            "community56 - node[(1, 0.0)]\n",
            "community57 - node[(1, 0.0)]\n",
            "community60 - node[(1, 0.0)]\n"
          ]
        }
      ]
    },
    {
      "cell_type": "code",
      "source": [
        "for comm_id, centrality_dict in centrality_measures['betweenness'].items():\n",
        "    sorted_centrality = sorted(centrality_dict.items(), key=lambda item: item[1], reverse=True)\n",
        "    print(f'community{comm_id} - node{sorted_centrality[:10]}')"
      ],
      "metadata": {
        "colab": {
          "base_uri": "https://localhost:8080/"
        },
        "id": "B7JgCVHL1wyH",
        "outputId": "9ccfcffd-cd1f-4fe8-d17e-f946c214bc9a"
      },
      "execution_count": 28,
      "outputs": [
        {
          "output_type": "stream",
          "name": "stdout",
          "text": [
            "community0 - node[(0, 0.0)]\n",
            "community2 - node[(0, 0.0)]\n",
            "community3 - node[(0, 0.0)]\n",
            "community4 - node[(0, 0.0)]\n",
            "community8 - node[(0, 0.0)]\n",
            "community10 - node[(0, 0.0)]\n",
            "community11 - node[(0, 0.0)]\n",
            "community12 - node[(0, 0.0)]\n",
            "community14 - node[(0, 0.0)]\n",
            "community15 - node[(0, 0.0)]\n",
            "community16 - node[(0, 0.0)]\n",
            "community18 - node[(0, 0.0)]\n",
            "community20 - node[(0, 0.0)]\n",
            "community21 - node[(0, 0.0)]\n",
            "community23 - node[(0, 0.0)]\n",
            "community24 - node[(0, 0.0)]\n",
            "community28 - node[(0, 0.0)]\n",
            "community29 - node[(0, 0.0)]\n",
            "community30 - node[(0, 0.0)]\n",
            "community33 - node[(0, 0.0)]\n",
            "community34 - node[(0, 0.0)]\n",
            "community35 - node[(0, 0.0)]\n",
            "community36 - node[(0, 0.0)]\n",
            "community37 - node[(0, 0.0)]\n",
            "community38 - node[(0, 0.0)]\n",
            "community40 - node[(0, 0.0)]\n",
            "community42 - node[(0, 0.0)]\n",
            "community43 - node[(0, 0.0)]\n",
            "community44 - node[(0, 0.0)]\n",
            "community45 - node[(0, 0.0)]\n",
            "community46 - node[(0, 0.0)]\n",
            "community47 - node[(0, 0.0)]\n",
            "community49 - node[(0, 0.0)]\n",
            "community50 - node[(0, 0.0)]\n",
            "community51 - node[(0, 0.0)]\n",
            "community52 - node[(0, 0.0)]\n",
            "community53 - node[(0, 0.0)]\n",
            "community55 - node[(0, 0.0)]\n",
            "community58 - node[(0, 0.0)]\n",
            "community59 - node[(0, 0.0)]\n",
            "community61 - node[(0, 0.0)]\n",
            "community1 - node[(1, 0.0)]\n",
            "community5 - node[(1, 0.0)]\n",
            "community6 - node[(1, 0.0)]\n",
            "community7 - node[(1, 0.0)]\n",
            "community9 - node[(1, 0.0)]\n",
            "community13 - node[(1, 0.0)]\n",
            "community17 - node[(1, 0.0)]\n",
            "community19 - node[(1, 0.0)]\n",
            "community22 - node[(1, 0.0)]\n",
            "community25 - node[(1, 0.0)]\n",
            "community26 - node[(1, 0.0)]\n",
            "community27 - node[(1, 0.0)]\n",
            "community31 - node[(1, 0.0)]\n",
            "community32 - node[(1, 0.0)]\n",
            "community39 - node[(1, 0.0)]\n",
            "community41 - node[(1, 0.0)]\n",
            "community48 - node[(1, 0.0)]\n",
            "community54 - node[(1, 0.0)]\n",
            "community56 - node[(1, 0.0)]\n",
            "community57 - node[(1, 0.0)]\n",
            "community60 - node[(1, 0.0)]\n"
          ]
        }
      ]
    },
    {
      "cell_type": "code",
      "source": [
        "for comm_id, centrality_dict in centrality_measures['pagerank'].items():\n",
        "    sorted_centrality = sorted(centrality_dict.items(), key=lambda item: item[1], reverse=True)\n",
        "    print(f'community{comm_id} - node{sorted_centrality[:5]}')"
      ],
      "metadata": {
        "colab": {
          "base_uri": "https://localhost:8080/"
        },
        "id": "Txjr7NAu1kix",
        "outputId": "42921964-329a-4946-b4c4-f0b386250017"
      },
      "execution_count": 31,
      "outputs": [
        {
          "output_type": "stream",
          "name": "stdout",
          "text": [
            "community0 - node[(0, 1.0)]\n",
            "community2 - node[(0, 1.0)]\n",
            "community3 - node[(0, 1.0)]\n",
            "community4 - node[(0, 1.0)]\n",
            "community8 - node[(0, 1.0)]\n",
            "community10 - node[(0, 1.0)]\n",
            "community11 - node[(0, 1.0)]\n",
            "community12 - node[(0, 1.0)]\n",
            "community14 - node[(0, 1.0)]\n",
            "community15 - node[(0, 1.0)]\n",
            "community16 - node[(0, 1.0)]\n",
            "community18 - node[(0, 1.0)]\n",
            "community20 - node[(0, 1.0)]\n",
            "community21 - node[(0, 1.0)]\n",
            "community23 - node[(0, 1.0)]\n",
            "community24 - node[(0, 1.0)]\n",
            "community28 - node[(0, 1.0)]\n",
            "community29 - node[(0, 1.0)]\n",
            "community30 - node[(0, 1.0)]\n",
            "community33 - node[(0, 1.0)]\n",
            "community34 - node[(0, 1.0)]\n",
            "community35 - node[(0, 1.0)]\n",
            "community36 - node[(0, 1.0)]\n",
            "community37 - node[(0, 1.0)]\n",
            "community38 - node[(0, 1.0)]\n",
            "community40 - node[(0, 1.0)]\n",
            "community42 - node[(0, 1.0)]\n",
            "community43 - node[(0, 1.0)]\n",
            "community44 - node[(0, 1.0)]\n",
            "community45 - node[(0, 1.0)]\n",
            "community46 - node[(0, 1.0)]\n",
            "community47 - node[(0, 1.0)]\n",
            "community49 - node[(0, 1.0)]\n",
            "community50 - node[(0, 1.0)]\n",
            "community51 - node[(0, 1.0)]\n",
            "community52 - node[(0, 1.0)]\n",
            "community53 - node[(0, 1.0)]\n",
            "community55 - node[(0, 1.0)]\n",
            "community58 - node[(0, 1.0)]\n",
            "community59 - node[(0, 1.0)]\n",
            "community61 - node[(0, 1.0)]\n",
            "community1 - node[(1, 1.0)]\n",
            "community5 - node[(1, 1.0)]\n",
            "community6 - node[(1, 1.0)]\n",
            "community7 - node[(1, 1.0)]\n",
            "community9 - node[(1, 1.0)]\n",
            "community13 - node[(1, 1.0)]\n",
            "community17 - node[(1, 1.0)]\n",
            "community19 - node[(1, 1.0)]\n",
            "community22 - node[(1, 1.0)]\n",
            "community25 - node[(1, 1.0)]\n",
            "community26 - node[(1, 1.0)]\n",
            "community27 - node[(1, 1.0)]\n",
            "community31 - node[(1, 1.0)]\n",
            "community32 - node[(1, 1.0)]\n",
            "community39 - node[(1, 1.0)]\n",
            "community41 - node[(1, 1.0)]\n",
            "community48 - node[(1, 1.0)]\n",
            "community54 - node[(1, 1.0)]\n",
            "community56 - node[(1, 1.0)]\n",
            "community57 - node[(1, 1.0)]\n",
            "community60 - node[(1, 1.0)]\n"
          ]
        }
      ]
    },
    {
      "cell_type": "code",
      "source": [
        "for comm_id, centrality_dict in centrality_measures['pagerank'].items():\n",
        "    sorted_centrality = sorted(centrality_dict.items(), key=lambda item: item[1], reverse=True)\n",
        "    print(f'community{comm_id} - node{sorted_centrality[:10]}')"
      ],
      "metadata": {
        "colab": {
          "base_uri": "https://localhost:8080/"
        },
        "id": "FnZeWBaF2DFI",
        "outputId": "f47306ca-5b0a-4b1e-bf11-582146fc4ec1"
      },
      "execution_count": 32,
      "outputs": [
        {
          "output_type": "stream",
          "name": "stdout",
          "text": [
            "community0 - node[(0, 1.0)]\n",
            "community2 - node[(0, 1.0)]\n",
            "community3 - node[(0, 1.0)]\n",
            "community4 - node[(0, 1.0)]\n",
            "community8 - node[(0, 1.0)]\n",
            "community10 - node[(0, 1.0)]\n",
            "community11 - node[(0, 1.0)]\n",
            "community12 - node[(0, 1.0)]\n",
            "community14 - node[(0, 1.0)]\n",
            "community15 - node[(0, 1.0)]\n",
            "community16 - node[(0, 1.0)]\n",
            "community18 - node[(0, 1.0)]\n",
            "community20 - node[(0, 1.0)]\n",
            "community21 - node[(0, 1.0)]\n",
            "community23 - node[(0, 1.0)]\n",
            "community24 - node[(0, 1.0)]\n",
            "community28 - node[(0, 1.0)]\n",
            "community29 - node[(0, 1.0)]\n",
            "community30 - node[(0, 1.0)]\n",
            "community33 - node[(0, 1.0)]\n",
            "community34 - node[(0, 1.0)]\n",
            "community35 - node[(0, 1.0)]\n",
            "community36 - node[(0, 1.0)]\n",
            "community37 - node[(0, 1.0)]\n",
            "community38 - node[(0, 1.0)]\n",
            "community40 - node[(0, 1.0)]\n",
            "community42 - node[(0, 1.0)]\n",
            "community43 - node[(0, 1.0)]\n",
            "community44 - node[(0, 1.0)]\n",
            "community45 - node[(0, 1.0)]\n",
            "community46 - node[(0, 1.0)]\n",
            "community47 - node[(0, 1.0)]\n",
            "community49 - node[(0, 1.0)]\n",
            "community50 - node[(0, 1.0)]\n",
            "community51 - node[(0, 1.0)]\n",
            "community52 - node[(0, 1.0)]\n",
            "community53 - node[(0, 1.0)]\n",
            "community55 - node[(0, 1.0)]\n",
            "community58 - node[(0, 1.0)]\n",
            "community59 - node[(0, 1.0)]\n",
            "community61 - node[(0, 1.0)]\n",
            "community1 - node[(1, 1.0)]\n",
            "community5 - node[(1, 1.0)]\n",
            "community6 - node[(1, 1.0)]\n",
            "community7 - node[(1, 1.0)]\n",
            "community9 - node[(1, 1.0)]\n",
            "community13 - node[(1, 1.0)]\n",
            "community17 - node[(1, 1.0)]\n",
            "community19 - node[(1, 1.0)]\n",
            "community22 - node[(1, 1.0)]\n",
            "community25 - node[(1, 1.0)]\n",
            "community26 - node[(1, 1.0)]\n",
            "community27 - node[(1, 1.0)]\n",
            "community31 - node[(1, 1.0)]\n",
            "community32 - node[(1, 1.0)]\n",
            "community39 - node[(1, 1.0)]\n",
            "community41 - node[(1, 1.0)]\n",
            "community48 - node[(1, 1.0)]\n",
            "community54 - node[(1, 1.0)]\n",
            "community56 - node[(1, 1.0)]\n",
            "community57 - node[(1, 1.0)]\n",
            "community60 - node[(1, 1.0)]\n"
          ]
        }
      ]
    },
    {
      "cell_type": "code",
      "source": [
        "for comm_id, centrality_dict in centrality_measures['closeness'].items():\n",
        "    sorted_centrality = sorted(centrality_dict.items(), key=lambda item: item[1], reverse=True)\n",
        "    print(f'community{comm_id} - node{sorted_centrality[:5]}')"
      ],
      "metadata": {
        "colab": {
          "base_uri": "https://localhost:8080/"
        },
        "id": "Iobg-88l2DIN",
        "outputId": "12d35934-9519-4c4a-e39e-495916ef434c"
      },
      "execution_count": 33,
      "outputs": [
        {
          "output_type": "stream",
          "name": "stdout",
          "text": [
            "community0 - node[(0, 0.0)]\n",
            "community2 - node[(0, 0.0)]\n",
            "community3 - node[(0, 0.0)]\n",
            "community4 - node[(0, 0.0)]\n",
            "community8 - node[(0, 0.0)]\n",
            "community10 - node[(0, 0.0)]\n",
            "community11 - node[(0, 0.0)]\n",
            "community12 - node[(0, 0.0)]\n",
            "community14 - node[(0, 0.0)]\n",
            "community15 - node[(0, 0.0)]\n",
            "community16 - node[(0, 0.0)]\n",
            "community18 - node[(0, 0.0)]\n",
            "community20 - node[(0, 0.0)]\n",
            "community21 - node[(0, 0.0)]\n",
            "community23 - node[(0, 0.0)]\n",
            "community24 - node[(0, 0.0)]\n",
            "community28 - node[(0, 0.0)]\n",
            "community29 - node[(0, 0.0)]\n",
            "community30 - node[(0, 0.0)]\n",
            "community33 - node[(0, 0.0)]\n",
            "community34 - node[(0, 0.0)]\n",
            "community35 - node[(0, 0.0)]\n",
            "community36 - node[(0, 0.0)]\n",
            "community37 - node[(0, 0.0)]\n",
            "community38 - node[(0, 0.0)]\n",
            "community40 - node[(0, 0.0)]\n",
            "community42 - node[(0, 0.0)]\n",
            "community43 - node[(0, 0.0)]\n",
            "community44 - node[(0, 0.0)]\n",
            "community45 - node[(0, 0.0)]\n",
            "community46 - node[(0, 0.0)]\n",
            "community47 - node[(0, 0.0)]\n",
            "community49 - node[(0, 0.0)]\n",
            "community50 - node[(0, 0.0)]\n",
            "community51 - node[(0, 0.0)]\n",
            "community52 - node[(0, 0.0)]\n",
            "community53 - node[(0, 0.0)]\n",
            "community55 - node[(0, 0.0)]\n",
            "community58 - node[(0, 0.0)]\n",
            "community59 - node[(0, 0.0)]\n",
            "community61 - node[(0, 0.0)]\n",
            "community1 - node[(1, 0.0)]\n",
            "community5 - node[(1, 0.0)]\n",
            "community6 - node[(1, 0.0)]\n",
            "community7 - node[(1, 0.0)]\n",
            "community9 - node[(1, 0.0)]\n",
            "community13 - node[(1, 0.0)]\n",
            "community17 - node[(1, 0.0)]\n",
            "community19 - node[(1, 0.0)]\n",
            "community22 - node[(1, 0.0)]\n",
            "community25 - node[(1, 0.0)]\n",
            "community26 - node[(1, 0.0)]\n",
            "community27 - node[(1, 0.0)]\n",
            "community31 - node[(1, 0.0)]\n",
            "community32 - node[(1, 0.0)]\n",
            "community39 - node[(1, 0.0)]\n",
            "community41 - node[(1, 0.0)]\n",
            "community48 - node[(1, 0.0)]\n",
            "community54 - node[(1, 0.0)]\n",
            "community56 - node[(1, 0.0)]\n",
            "community57 - node[(1, 0.0)]\n",
            "community60 - node[(1, 0.0)]\n"
          ]
        }
      ]
    },
    {
      "cell_type": "code",
      "source": [
        "for comm_id, centrality_dict in centrality_measures['closeness'].items():\n",
        "    sorted_centrality = sorted(centrality_dict.items(), key=lambda item: item[1], reverse=True)\n",
        "    print(f'community{comm_id} - node{sorted_centrality[:10]}')"
      ],
      "metadata": {
        "colab": {
          "base_uri": "https://localhost:8080/"
        },
        "id": "-4pW4mgM2DWp",
        "outputId": "cb0f6a27-9eb3-4adb-f72f-12fcd95257b7"
      },
      "execution_count": 34,
      "outputs": [
        {
          "output_type": "stream",
          "name": "stdout",
          "text": [
            "community0 - node[(0, 0.0)]\n",
            "community2 - node[(0, 0.0)]\n",
            "community3 - node[(0, 0.0)]\n",
            "community4 - node[(0, 0.0)]\n",
            "community8 - node[(0, 0.0)]\n",
            "community10 - node[(0, 0.0)]\n",
            "community11 - node[(0, 0.0)]\n",
            "community12 - node[(0, 0.0)]\n",
            "community14 - node[(0, 0.0)]\n",
            "community15 - node[(0, 0.0)]\n",
            "community16 - node[(0, 0.0)]\n",
            "community18 - node[(0, 0.0)]\n",
            "community20 - node[(0, 0.0)]\n",
            "community21 - node[(0, 0.0)]\n",
            "community23 - node[(0, 0.0)]\n",
            "community24 - node[(0, 0.0)]\n",
            "community28 - node[(0, 0.0)]\n",
            "community29 - node[(0, 0.0)]\n",
            "community30 - node[(0, 0.0)]\n",
            "community33 - node[(0, 0.0)]\n",
            "community34 - node[(0, 0.0)]\n",
            "community35 - node[(0, 0.0)]\n",
            "community36 - node[(0, 0.0)]\n",
            "community37 - node[(0, 0.0)]\n",
            "community38 - node[(0, 0.0)]\n",
            "community40 - node[(0, 0.0)]\n",
            "community42 - node[(0, 0.0)]\n",
            "community43 - node[(0, 0.0)]\n",
            "community44 - node[(0, 0.0)]\n",
            "community45 - node[(0, 0.0)]\n",
            "community46 - node[(0, 0.0)]\n",
            "community47 - node[(0, 0.0)]\n",
            "community49 - node[(0, 0.0)]\n",
            "community50 - node[(0, 0.0)]\n",
            "community51 - node[(0, 0.0)]\n",
            "community52 - node[(0, 0.0)]\n",
            "community53 - node[(0, 0.0)]\n",
            "community55 - node[(0, 0.0)]\n",
            "community58 - node[(0, 0.0)]\n",
            "community59 - node[(0, 0.0)]\n",
            "community61 - node[(0, 0.0)]\n",
            "community1 - node[(1, 0.0)]\n",
            "community5 - node[(1, 0.0)]\n",
            "community6 - node[(1, 0.0)]\n",
            "community7 - node[(1, 0.0)]\n",
            "community9 - node[(1, 0.0)]\n",
            "community13 - node[(1, 0.0)]\n",
            "community17 - node[(1, 0.0)]\n",
            "community19 - node[(1, 0.0)]\n",
            "community22 - node[(1, 0.0)]\n",
            "community25 - node[(1, 0.0)]\n",
            "community26 - node[(1, 0.0)]\n",
            "community27 - node[(1, 0.0)]\n",
            "community31 - node[(1, 0.0)]\n",
            "community32 - node[(1, 0.0)]\n",
            "community39 - node[(1, 0.0)]\n",
            "community41 - node[(1, 0.0)]\n",
            "community48 - node[(1, 0.0)]\n",
            "community54 - node[(1, 0.0)]\n",
            "community56 - node[(1, 0.0)]\n",
            "community57 - node[(1, 0.0)]\n",
            "community60 - node[(1, 0.0)]\n"
          ]
        }
      ]
    },
    {
      "cell_type": "code",
      "source": [
        "for comm_id, centrality_dict in centrality_measures['eigenvector'].items():\n",
        "    sorted_centrality = sorted(centrality_dict.items(), key=lambda item: item[1], reverse=True)\n",
        "    print(f'community{comm_id} - node{sorted_centrality[:5]}')"
      ],
      "metadata": {
        "colab": {
          "base_uri": "https://localhost:8080/"
        },
        "id": "nlWBD5962Ddf",
        "outputId": "50c8cde1-7cc6-4681-f4a6-9fa56e648a60"
      },
      "execution_count": 35,
      "outputs": [
        {
          "output_type": "stream",
          "name": "stdout",
          "text": [
            "community0 - node[(0, 1.0)]\n",
            "community2 - node[(0, 1.0)]\n",
            "community3 - node[(0, 1.0)]\n",
            "community4 - node[(0, 1.0)]\n",
            "community8 - node[(0, 1.0)]\n",
            "community10 - node[(0, 1.0)]\n",
            "community11 - node[(0, 1.0)]\n",
            "community12 - node[(0, 1.0)]\n",
            "community14 - node[(0, 1.0)]\n",
            "community15 - node[(0, 1.0)]\n",
            "community16 - node[(0, 1.0)]\n",
            "community18 - node[(0, 1.0)]\n",
            "community20 - node[(0, 1.0)]\n",
            "community21 - node[(0, 1.0)]\n",
            "community23 - node[(0, 1.0)]\n",
            "community24 - node[(0, 1.0)]\n",
            "community28 - node[(0, 1.0)]\n",
            "community29 - node[(0, 1.0)]\n",
            "community30 - node[(0, 1.0)]\n",
            "community33 - node[(0, 1.0)]\n",
            "community34 - node[(0, 1.0)]\n",
            "community35 - node[(0, 1.0)]\n",
            "community36 - node[(0, 1.0)]\n",
            "community37 - node[(0, 1.0)]\n",
            "community38 - node[(0, 1.0)]\n",
            "community40 - node[(0, 1.0)]\n",
            "community42 - node[(0, 1.0)]\n",
            "community43 - node[(0, 1.0)]\n",
            "community44 - node[(0, 1.0)]\n",
            "community45 - node[(0, 1.0)]\n",
            "community46 - node[(0, 1.0)]\n",
            "community47 - node[(0, 1.0)]\n",
            "community49 - node[(0, 1.0)]\n",
            "community50 - node[(0, 1.0)]\n",
            "community51 - node[(0, 1.0)]\n",
            "community52 - node[(0, 1.0)]\n",
            "community53 - node[(0, 1.0)]\n",
            "community55 - node[(0, 1.0)]\n",
            "community58 - node[(0, 1.0)]\n",
            "community59 - node[(0, 1.0)]\n",
            "community61 - node[(0, 1.0)]\n",
            "community1 - node[(1, 1.0)]\n",
            "community5 - node[(1, 1.0)]\n",
            "community6 - node[(1, 1.0)]\n",
            "community7 - node[(1, 1.0)]\n",
            "community9 - node[(1, 1.0)]\n",
            "community13 - node[(1, 1.0)]\n",
            "community17 - node[(1, 1.0)]\n",
            "community19 - node[(1, 1.0)]\n",
            "community22 - node[(1, 1.0)]\n",
            "community25 - node[(1, 1.0)]\n",
            "community26 - node[(1, 1.0)]\n",
            "community27 - node[(1, 1.0)]\n",
            "community31 - node[(1, 1.0)]\n",
            "community32 - node[(1, 1.0)]\n",
            "community39 - node[(1, 1.0)]\n",
            "community41 - node[(1, 1.0)]\n",
            "community48 - node[(1, 1.0)]\n",
            "community54 - node[(1, 1.0)]\n",
            "community56 - node[(1, 1.0)]\n",
            "community57 - node[(1, 1.0)]\n",
            "community60 - node[(1, 1.0)]\n"
          ]
        }
      ]
    },
    {
      "cell_type": "code",
      "source": [
        "for comm_id, centrality_dict in centrality_measures['eigenvector'].items():\n",
        "    sorted_centrality = sorted(centrality_dict.items(), key=lambda item: item[1], reverse=True)\n",
        "    print(f'community{comm_id} - node{sorted_centrality[:10]}')"
      ],
      "metadata": {
        "colab": {
          "base_uri": "https://localhost:8080/"
        },
        "id": "GeiAU5ri2lIF",
        "outputId": "f72fcfcf-25a6-4180-cc2b-0f2e71b587f8"
      },
      "execution_count": 36,
      "outputs": [
        {
          "output_type": "stream",
          "name": "stdout",
          "text": [
            "community0 - node[(0, 1.0)]\n",
            "community2 - node[(0, 1.0)]\n",
            "community3 - node[(0, 1.0)]\n",
            "community4 - node[(0, 1.0)]\n",
            "community8 - node[(0, 1.0)]\n",
            "community10 - node[(0, 1.0)]\n",
            "community11 - node[(0, 1.0)]\n",
            "community12 - node[(0, 1.0)]\n",
            "community14 - node[(0, 1.0)]\n",
            "community15 - node[(0, 1.0)]\n",
            "community16 - node[(0, 1.0)]\n",
            "community18 - node[(0, 1.0)]\n",
            "community20 - node[(0, 1.0)]\n",
            "community21 - node[(0, 1.0)]\n",
            "community23 - node[(0, 1.0)]\n",
            "community24 - node[(0, 1.0)]\n",
            "community28 - node[(0, 1.0)]\n",
            "community29 - node[(0, 1.0)]\n",
            "community30 - node[(0, 1.0)]\n",
            "community33 - node[(0, 1.0)]\n",
            "community34 - node[(0, 1.0)]\n",
            "community35 - node[(0, 1.0)]\n",
            "community36 - node[(0, 1.0)]\n",
            "community37 - node[(0, 1.0)]\n",
            "community38 - node[(0, 1.0)]\n",
            "community40 - node[(0, 1.0)]\n",
            "community42 - node[(0, 1.0)]\n",
            "community43 - node[(0, 1.0)]\n",
            "community44 - node[(0, 1.0)]\n",
            "community45 - node[(0, 1.0)]\n",
            "community46 - node[(0, 1.0)]\n",
            "community47 - node[(0, 1.0)]\n",
            "community49 - node[(0, 1.0)]\n",
            "community50 - node[(0, 1.0)]\n",
            "community51 - node[(0, 1.0)]\n",
            "community52 - node[(0, 1.0)]\n",
            "community53 - node[(0, 1.0)]\n",
            "community55 - node[(0, 1.0)]\n",
            "community58 - node[(0, 1.0)]\n",
            "community59 - node[(0, 1.0)]\n",
            "community61 - node[(0, 1.0)]\n",
            "community1 - node[(1, 1.0)]\n",
            "community5 - node[(1, 1.0)]\n",
            "community6 - node[(1, 1.0)]\n",
            "community7 - node[(1, 1.0)]\n",
            "community9 - node[(1, 1.0)]\n",
            "community13 - node[(1, 1.0)]\n",
            "community17 - node[(1, 1.0)]\n",
            "community19 - node[(1, 1.0)]\n",
            "community22 - node[(1, 1.0)]\n",
            "community25 - node[(1, 1.0)]\n",
            "community26 - node[(1, 1.0)]\n",
            "community27 - node[(1, 1.0)]\n",
            "community31 - node[(1, 1.0)]\n",
            "community32 - node[(1, 1.0)]\n",
            "community39 - node[(1, 1.0)]\n",
            "community41 - node[(1, 1.0)]\n",
            "community48 - node[(1, 1.0)]\n",
            "community54 - node[(1, 1.0)]\n",
            "community56 - node[(1, 1.0)]\n",
            "community57 - node[(1, 1.0)]\n",
            "community60 - node[(1, 1.0)]\n"
          ]
        }
      ]
    },
    {
      "cell_type": "code",
      "source": [
        "\n",
        "def select_seed_nodes_5(communities):\n",
        "    selected_nodes = []\n",
        "    for community in communities:\n",
        "        subgraph = G.subgraph(community)\n",
        "        degree_centrality = nx.degree_centrality(subgraph)\n",
        "        sorted_nodes = sorted(degree_centrality, key=degree_centrality.get, reverse=True)[:5]\n",
        "        selected_nodes.extend(sorted_nodes)\n",
        "        if len(selected_nodes) >= 5:\n",
        "            return selected_nodes[:5]\n",
        "    return selected_nodes\n",
        "\n",
        "\n",
        "\n"
      ],
      "metadata": {
        "id": "sNhKjApx2lNO"
      },
      "execution_count": 39,
      "outputs": []
    },
    {
      "cell_type": "code",
      "source": [
        "communities_gn = list(nx.algorithms.community.girvan_newman(G))\n",
        "top_level_communities_gn = next(iter(communities_gn))\n",
        "seeds_gn_5 = select_seed_nodes_5(top_level_communities_gn)"
      ],
      "metadata": {
        "id": "3gPB7k_d2lSL"
      },
      "execution_count": 40,
      "outputs": []
    },
    {
      "cell_type": "code",
      "source": [
        "communities_louvain = nx.algorithms.community.louvain_communities(G, seed=5)\n",
        "seeds_louvain_5 = select_seed_nodes_5(communities_louvain)"
      ],
      "metadata": {
        "id": "N7H34P7y2_Iu"
      },
      "execution_count": 41,
      "outputs": []
    },
    {
      "cell_type": "code",
      "source": [
        "spread_gn_5 = run_IC_model(G, seeds_gn_5)\n",
        "spread_louvain_5 = run_IC_model(G, seeds_louvain_5)"
      ],
      "metadata": {
        "id": "WLjbadvY2_RX"
      },
      "execution_count": 42,
      "outputs": []
    },
    {
      "cell_type": "code",
      "source": [
        "\n",
        "print(f' GirvanNewman seed nodes: {spread_gn_5}')\n",
        "print(f' Louvain seed nodes: {spread_louvain_5}')"
      ],
      "metadata": {
        "colab": {
          "base_uri": "https://localhost:8080/"
        },
        "id": "rdVLxUKH2_aM",
        "outputId": "3288e145-5ab1-4080-a71e-b985b698784b"
      },
      "execution_count": 43,
      "outputs": [
        {
          "output_type": "stream",
          "name": "stdout",
          "text": [
            " GirvanNewman seed nodes: 11.14\n",
            " Louvain seed nodes: 9.16\n"
          ]
        }
      ]
    },
    {
      "cell_type": "code",
      "source": [
        "\n",
        "def select_seed_nodes_10(communities):\n",
        "    selected_nodes = []\n",
        "    for community in communities:\n",
        "        subgraph = G.subgraph(community)\n",
        "        degree_centrality = nx.degree_centrality(subgraph)\n",
        "        sorted_nodes = sorted(degree_centrality, key=degree_centrality.get, reverse=True)[:5]\n",
        "        selected_nodes.extend(sorted_nodes)\n",
        "        if len(selected_nodes) >= 10:\n",
        "            return selected_nodes[:10]\n",
        "    return selected_nodes\n"
      ],
      "metadata": {
        "id": "T_U-pyB43rfJ"
      },
      "execution_count": 47,
      "outputs": []
    },
    {
      "cell_type": "code",
      "source": [
        "communities_gn = list(nx.algorithms.community.girvan_newman(G))\n",
        "top_level_communities_gn = next(iter(communities_gn))\n",
        "seeds_gn_10 = select_seed_nodes_10(top_level_communities_gn)"
      ],
      "metadata": {
        "id": "1su7SC8B3rkt"
      },
      "execution_count": 48,
      "outputs": []
    },
    {
      "cell_type": "code",
      "source": [
        "\n",
        "communities_louvain = nx.algorithms.community.louvain_communities(G, seed=10)\n",
        "seeds_louvain_10 = select_seed_nodes_10(communities_louvain)"
      ],
      "metadata": {
        "id": "KtsMC6-f3rs8"
      },
      "execution_count": 49,
      "outputs": []
    },
    {
      "cell_type": "code",
      "source": [
        "spread_gn_10 = run_IC_model(G, seeds_gn_10)\n",
        "spread_louvain_10 = run_IC_model(G, seeds_louvain_10)"
      ],
      "metadata": {
        "id": "RdfUN_AW3W94"
      },
      "execution_count": 50,
      "outputs": []
    },
    {
      "cell_type": "code",
      "source": [
        "\n",
        "print(f' GirvanNewman seed nodes: {spread_gn_10}')\n",
        "print(f' Louvain seed nodes: {spread_louvain_10}')"
      ],
      "metadata": {
        "colab": {
          "base_uri": "https://localhost:8080/"
        },
        "id": "jhY3F5zZ3XIP",
        "outputId": "6f11f281-b612-4f4c-de88-d3809f475f21"
      },
      "execution_count": 51,
      "outputs": [
        {
          "output_type": "stream",
          "name": "stdout",
          "text": [
            " GirvanNewman seed nodes: 18.48\n",
            " Louvain seed nodes: 15.18\n"
          ]
        }
      ]
    },
    {
      "cell_type": "code",
      "source": [
        "category=['Griven','louvain']\n",
        "values=[spread_gn_5,spread_louvain_5]\n",
        "plt.pie(values,labels=category)\n",
        "plt.show()"
      ],
      "metadata": {
        "colab": {
          "base_uri": "https://localhost:8080/",
          "height": 406
        },
        "id": "hqybXVbm3HwV",
        "outputId": "b74757a1-e200-4a1e-ad8b-02662703a089"
      },
      "execution_count": 44,
      "outputs": [
        {
          "output_type": "display_data",
          "data": {
            "text/plain": [
              "<Figure size 640x480 with 1 Axes>"
            ],
            "image/png": "[encoded data removed]"
          },
          "metadata": {}
        }
      ]
    },
    {
      "cell_type": "code",
      "source": [
        "category=['Griven','louvain']\n",
        "values=[spread_gn_10,spread_louvain_10]\n",
        "plt.pie(values,labels=category)\n",
        "plt.show()"
      ],
      "metadata": {
        "colab": {
          "base_uri": "https://localhost:8080/",
          "height": 406
        },
        "id": "_7szyox93Hyc",
        "outputId": "3c7931df-c471-4163-a700-fb645e72a8ac"
      },
      "execution_count": 52,
      "outputs": [
        {
          "output_type": "display_data",
          "data": {
            "text/plain": [
              "<Figure size 640x480 with 1 Axes>"
            ],
            "image/png": "[encoded data removed]"
          },
          "metadata": {}
        }
      ]
    },
    {
      "cell_type": "code",
      "source": [
        "categories = ['Page', 'Eigen', 'Degree', 'Between', 'Close','Griven','louvain']\n",
        "values = [page5, eigen5, degree5, between5, close5,spread_gn_5,spread_louvain_5]\n",
        "plt.bar(categories, values, color='red')\n",
        "plt.show()"
      ],
      "metadata": {
        "colab": {
          "base_uri": "https://localhost:8080/",
          "height": 430
        },
        "id": "Q3w7x0Ci38zv",
        "outputId": "82ef98df-222c-4fc3-a8a9-1774775eaf87"
      },
      "execution_count": 53,
      "outputs": [
        {
          "output_type": "display_data",
          "data": {
            "text/plain": [
              "<Figure size 640x480 with 1 Axes>"
            ],
            "image/png": "[encoded data removed]"
          },
          "metadata": {}
        }
      ]
    },
    {
      "cell_type": "code",
      "source": [
        "categories = ['Page', 'Eigen', 'Degree', 'Between', 'Close','Griven','louvain']\n",
        "values = [page10, eigen10, degree10, between10, close5,spread_gn_10,spread_louvain_10]\n",
        "plt.bar(categories, values, color='pink')\n",
        "plt.show()\n"
      ],
      "metadata": {
        "colab": {
          "base_uri": "https://localhost:8080/",
          "height": 430
        },
        "id": "5UP5rVXU38_b",
        "outputId": "9a84b4ac-795a-41fd-bedb-307dbea96246"
      },
      "execution_count": 54,
      "outputs": [
        {
          "output_type": "display_data",
          "data": {
            "text/plain": [
              "<Figure size 640x480 with 1 Axes>"
            ],
            "image/png": "[encoded data removed]"
          },
          "metadata": {}
        }
      ]
    },
    {
      "cell_type": "code",
      "source": [
        "'thanks for your attention'"
      ],
      "metadata": {
        "colab": {
          "base_uri": "https://localhost:8080/",
          "height": 35
        },
        "id": "xjFKxOwG3H2J",
        "outputId": "5e45b840-e872-43d5-ea27-153643c8c904"
      },
      "execution_count": 55,
      "outputs": [
        {
          "output_type": "execute_result",
          "data": {
            "text/plain": [
              "'thanks for your attention'"
            ],
            "application/vnd.google.colaboratory.intrinsic+json": {
              "type": "string"
            }
          },
          "metadata": {},
          "execution_count": 55
        }
      ]
    }
  ]
}